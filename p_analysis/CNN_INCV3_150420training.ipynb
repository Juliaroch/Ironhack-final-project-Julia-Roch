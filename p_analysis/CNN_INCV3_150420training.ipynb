{
  "nbformat": 4,
  "nbformat_minor": 0,
  "metadata": {
    "colab": {
      "name": "CNN-INCV3-FC130420trains.ipynb",
      "provenance": [],
      "collapsed_sections": [],
      "machine_shape": "hm",
      "authorship_tag": "ABX9TyNUwNou93Nx3eNrUCyz1fpv",
      "include_colab_link": true
    },
    "kernelspec": {
      "name": "python3",
      "display_name": "Python 3"
    },
    "accelerator": "TPU"
  },
  "cells": [
    {
      "cell_type": "markdown",
      "metadata": {
        "id": "view-in-github",
        "colab_type": "text"
      },
      "source": [
        "<a href=\"https://colab.research.google.com/github/Juliaroch/Ironhack-final-project-Julia-Roch/blob/master/CNN_INCV3_150420training.ipynb\" target=\"_parent\"><img src=\"https://colab.research.google.com/assets/colab-badge.svg\" alt=\"Open In Colab\"/></a>"
      ]
    },
    {
      "cell_type": "code",
      "metadata": {
        "id": "YlZKZcsUA1DW",
        "colab_type": "code",
        "colab": {
          "base_uri": "https://localhost:8080/",
          "height": 34
        },
        "outputId": "d0b41759-e9a4-4907-900f-1ef81453bec9"
      },
      "source": [
        "import pandas as pd\n",
        "import numpy as np\n",
        "import os\n",
        "import matplotlib \n",
        "import matplotlib.pyplot as plt\n",
        "import random \n",
        "import numpy as np\n",
        "import tensorflow as tf\n",
        "from sklearn import metrics\n",
        "from sklearn.metrics import auc, roc_curve, roc_auc_score\n",
        "import keras"
      ],
      "execution_count": 1,
      "outputs": [
        {
          "output_type": "stream",
          "text": [
            "Using TensorFlow backend.\n"
          ],
          "name": "stderr"
        }
      ]
    },
    {
      "cell_type": "code",
      "metadata": {
        "id": "i0lYFTI1CM6B",
        "colab_type": "code",
        "colab": {}
      },
      "source": [
        "from tensorflow.python.keras.applications.inception_v3 import InceptionV3\n",
        "from tensorflow.python.keras.preprocessing import image\n",
        "from tensorflow.python.keras.models import Model\n",
        "from tensorflow.python.keras.optimizers import RMSprop, SGD\n",
        "from tensorflow.python.keras.layers import Dense, GlobalAveragePooling2D\n",
        "from tensorflow.python.keras.models import model_from_json, load_model\n",
        "from keras import backend as K\n",
        "from tensorflow.keras.preprocessing.image import ImageDataGenerator\n",
        "from tensorflow.keras.callbacks import *"
      ],
      "execution_count": 0,
      "outputs": []
    },
    {
      "cell_type": "code",
      "metadata": {
        "id": "TaAIdW5cPvEb",
        "colab_type": "code",
        "outputId": "085c8fc7-c326-486e-9a9a-9edfa680636f",
        "colab": {
          "base_uri": "https://localhost:8080/",
          "height": 34
        }
      },
      "source": [
        "from google.colab import drive\n",
        "drive.mount('/content/gdrive')"
      ],
      "execution_count": 3,
      "outputs": [
        {
          "output_type": "stream",
          "text": [
            "Drive already mounted at /content/gdrive; to attempt to forcibly remount, call drive.mount(\"/content/gdrive\", force_remount=True).\n"
          ],
          "name": "stdout"
        }
      ]
    },
    {
      "cell_type": "code",
      "metadata": {
        "id": "OTKjm9ZeCM9H",
        "colab_type": "code",
        "outputId": "0e923d0b-f2ad-4c45-e8e0-6616f393153b",
        "colab": {
          "base_uri": "https://localhost:8080/",
          "height": 204
        }
      },
      "source": [
        "#Import the images from 11 artists I need for my training\n",
        "images_dir = '/content/gdrive/My Drive/Final_project_data/resized_train_test'\n",
        "data_artists = pd.read_csv('/content/gdrive/My Drive/Final_project_data/data_artists.csv')\n",
        "artists_dirs = os.listdir(images_dir)\n",
        "artists_top_name = data_artists['name'].str.replace(' ', '_').values\n",
        "\n",
        "# See if all directories exist\n",
        "for name in artists_top_name:\n",
        "    if os.path.exists(os.path.join(images_dir, name)):\n",
        "        print(\"Found -->\", os.path.join(images_dir, name))\n",
        "    else:\n",
        "        print(\"Did not find -->\", os.path.join(images_dir, name))\n"
      ],
      "execution_count": 4,
      "outputs": [
        {
          "output_type": "stream",
          "text": [
            "Found --> /content/gdrive/My Drive/Final_project_data/resized_train_test/Vincent_van_Gogh\n",
            "Found --> /content/gdrive/My Drive/Final_project_data/resized_train_test/Pablo_Picasso\n",
            "Found --> /content/gdrive/My Drive/Final_project_data/resized_train_test/Pierre-Auguste_Renoir\n",
            "Found --> /content/gdrive/My Drive/Final_project_data/resized_train_test/Francisco_Goya\n",
            "Found --> /content/gdrive/My Drive/Final_project_data/resized_train_test/Albrecht_Dürer\n",
            "Found --> /content/gdrive/My Drive/Final_project_data/resized_train_test/Alfred_Sisley\n",
            "Found --> /content/gdrive/My Drive/Final_project_data/resized_train_test/Marc_Chagall\n",
            "Found --> /content/gdrive/My Drive/Final_project_data/resized_train_test/Edgar_Degas\n",
            "Found --> /content/gdrive/My Drive/Final_project_data/resized_train_test/Rembrandt\n",
            "Found --> /content/gdrive/My Drive/Final_project_data/resized_train_test/Titian\n",
            "Found --> /content/gdrive/My Drive/Final_project_data/resized_train_test/Paul_Gauguin\n"
          ],
          "name": "stdout"
        }
      ]
    },
    {
      "cell_type": "code",
      "metadata": {
        "id": "gy1nv_w8CNB_",
        "colab_type": "code",
        "outputId": "ea413cc9-282d-434c-cb24-f86de16edf51",
        "colab": {
          "base_uri": "https://localhost:8080/",
          "height": 54
        }
      },
      "source": [
        "#See if images have been imported correctly \n",
        "#n = 5\n",
        "#fig, axes = plt.subplots(1, n, figsize=(20,10))\n",
        "\n",
        "'''for i in range(n):\n",
        "    random_artist = random.choice(artists_top_name)\n",
        "    random_image = random.choice(os.listdir(os.path.join(images_dir, random_artist)))\n",
        "    random_image_file = os.path.join(images_dir, random_artist, random_image)\n",
        "    image = plt.imread(random_image_file)\n",
        "    axes[i].imshow(image)\n",
        "    axes[i].set_title(\"Artist: \" + random_artist.replace('_', ' '))\n",
        "    axes[i].axis('off')\n",
        "\n",
        "plt.show()'''"
      ],
      "execution_count": 5,
      "outputs": [
        {
          "output_type": "execute_result",
          "data": {
            "text/plain": [
              "'for i in range(n):\\n    random_artist = random.choice(artists_top_name)\\n    random_image = random.choice(os.listdir(os.path.join(images_dir, random_artist)))\\n    random_image_file = os.path.join(images_dir, random_artist, random_image)\\n    image = plt.imread(random_image_file)\\n    axes[i].imshow(image)\\n    axes[i].set_title(\"Artist: \" + random_artist.replace(\\'_\\', \\' \\'))\\n    axes[i].axis(\\'off\\')\\n\\nplt.show()'"
            ]
          },
          "metadata": {
            "tags": []
          },
          "execution_count": 5
        }
      ]
    },
    {
      "cell_type": "code",
      "metadata": {
        "id": "d24Q8nSvCUVW",
        "colab_type": "code",
        "outputId": "ef63c4cd-9fe6-4077-ac54-79d663634dcf",
        "colab": {
          "base_uri": "https://localhost:8080/",
          "height": 68
        }
      },
      "source": [
        "#Train_test_split\n",
        "batch_size = 16\n",
        "train_input_shape = (128, 128, 3)\n",
        "n_classes = artists_top_name.shape[0]\n",
        "\n",
        "train_datagen=ImageDataGenerator(validation_split=0.1,rescale=1./255.,horizontal_flip=True,vertical_flip=True)\n",
        "                                 \n",
        "train_generator=train_datagen.flow_from_directory(directory=images_dir,class_mode='categorical',target_size=train_input_shape[0:2],batch_size=batch_size,subset=\"training\",shuffle=True,classes=artists_top_name.tolist())\n",
        "                                                   \n",
        "valid_generator=train_datagen.flow_from_directory(directory=images_dir,class_mode='categorical',target_size=train_input_shape[0:2],batch_size=batch_size,subset=\"validation\",shuffle=True,classes=artists_top_name.tolist())\n",
        "\n",
        "STEP_SIZE_TRAIN=train_generator.n//train_generator.batch_size\n",
        "STEP_SIZE_VALID=valid_generator.n//valid_generator.batch_size\n",
        "print(\"Total number of batches =\", STEP_SIZE_TRAIN, \"and\", STEP_SIZE_VALID)"
      ],
      "execution_count": 6,
      "outputs": [
        {
          "output_type": "stream",
          "text": [
            "Found 2384 images belonging to 11 classes.\n",
            "Found 262 images belonging to 11 classes.\n",
            "Total number of batches = 149 and 16\n"
          ],
          "name": "stdout"
        }
      ]
    },
    {
      "cell_type": "code",
      "metadata": {
        "id": "DiYjbktcCUX3",
        "colab_type": "code",
        "colab": {}
      },
      "source": [
        "base_model = InceptionV3(weights='imagenet', include_top=False, input_shape=train_input_shape)"
      ],
      "execution_count": 0,
      "outputs": []
    },
    {
      "cell_type": "code",
      "metadata": {
        "id": "-_WcusFKCUa3",
        "colab_type": "code",
        "colab": {}
      },
      "source": [
        "# add a global spatial average pooling layer\n",
        "x = base_model.output\n",
        "x = GlobalAveragePooling2D()(x)\n",
        "# let's add a fully-connected layer\n",
        "x = Dense(1024, activation='relu')(x)\n",
        "# and a logistic layer -- let's say we have n_classes classes\n",
        "output = Dense(n_classes, activation='softmax')(x)\n",
        "\n",
        "model = Model(inputs=base_model.input, outputs=output)"
      ],
      "execution_count": 0,
      "outputs": []
    },
    {
      "cell_type": "code",
      "metadata": {
        "id": "oDw9NQe6CUdA",
        "colab_type": "code",
        "colab": {}
      },
      "source": [
        "# first: train only the top layers (which were randomly initialized)\n",
        "# i.e. freeze all convolutional InceptionV3 layers\n",
        "for layer in base_model.layers:\n",
        "    layer.trainable = False\n",
        "\n",
        "# compile the model (should be done *after* setting layers to non-trainable)\n",
        "\n",
        "optimizer = tf.keras.optimizers.RMSprop(lr=0.001)\n",
        "\n",
        "model.compile(optimizer=optimizer, loss='categorical_crossentropy',metrics=['accuracy'])"
      ],
      "execution_count": 0,
      "outputs": []
    },
    {
      "cell_type": "code",
      "metadata": {
        "id": "D9FJkMJZCNE_",
        "colab_type": "code",
        "colab": {}
      },
      "source": [
        "n_epoch = 6\n",
        "\n",
        "early_stop = EarlyStopping(monitor='val_loss', patience=20, verbose=1, mode='auto', restore_best_weights=True)\n",
        "\n",
        "reduce_lr = ReduceLROnPlateau(monitor='val_loss', factor=0.1, patience=5, verbose=1, mode='auto')"
      ],
      "execution_count": 0,
      "outputs": []
    },
    {
      "cell_type": "code",
      "metadata": {
        "id": "mzdwD4ddCNHf",
        "colab_type": "code",
        "outputId": "baff3d19-2c4e-4a7e-c6e3-d5a3e3459de6",
        "colab": {
          "base_uri": "https://localhost:8080/",
          "height": 530
        }
      },
      "source": [
        "history1 = model.fit_generator(generator=train_generator, steps_per_epoch=STEP_SIZE_TRAIN, validation_data=valid_generator, validation_steps=STEP_SIZE_VALID, epochs=n_epoch, shuffle=True, verbose=1, callbacks=[reduce_lr], use_multiprocessing=True, workers=16)"
      ],
      "execution_count": 11,
      "outputs": [
        {
          "output_type": "stream",
          "text": [
            "WARNING:tensorflow:From <ipython-input-11-ec5325545f09>:1: Model.fit_generator (from tensorflow.python.keras.engine.training) is deprecated and will be removed in a future version.\n",
            "Instructions for updating:\n",
            "Please use Model.fit, which supports generators.\n",
            "WARNING:tensorflow:Using a generator with `use_multiprocessing=True` and multiple workers may duplicate your data. Please consider using the `tf.data.Dataset`.\n",
            "Epoch 1/6\n",
            "WARNING:tensorflow:multiprocessing can interact badly with TensorFlow, causing nondeterministic deadlocks. For high performance data pipelines tf.data is recommended.\n",
            "149/149 [==============================] - ETA: 0s - loss: 1.3548 - accuracy: 0.8557WARNING:tensorflow:Using a generator with `use_multiprocessing=True` and multiple workers may duplicate your data. Please consider using the `tf.data.Dataset`.\n",
            "WARNING:tensorflow:multiprocessing can interact badly with TensorFlow, causing nondeterministic deadlocks. For high performance data pipelines tf.data is recommended.\n",
            "149/149 [==============================] - 12s 83ms/step - loss: 1.3548 - accuracy: 0.8557 - val_loss: 3.5018 - val_accuracy: 0.2500 - lr: 0.0010\n",
            "Epoch 2/6\n",
            "149/149 [==============================] - ETA: 0s - loss: 0.5247 - accuracy: 0.9027WARNING:tensorflow:Using a generator with `use_multiprocessing=True` and multiple workers may duplicate your data. Please consider using the `tf.data.Dataset`.\n",
            "WARNING:tensorflow:multiprocessing can interact badly with TensorFlow, causing nondeterministic deadlocks. For high performance data pipelines tf.data is recommended.\n",
            "149/149 [==============================] - 12s 81ms/step - loss: 0.5247 - accuracy: 0.9027 - val_loss: 3.1336 - val_accuracy: 0.2500 - lr: 0.0010\n",
            "Epoch 3/6\n",
            "149/149 [==============================] - ETA: 0s - loss: 0.4260 - accuracy: 0.9073WARNING:tensorflow:Using a generator with `use_multiprocessing=True` and multiple workers may duplicate your data. Please consider using the `tf.data.Dataset`.\n",
            "WARNING:tensorflow:multiprocessing can interact badly with TensorFlow, causing nondeterministic deadlocks. For high performance data pipelines tf.data is recommended.\n",
            "149/149 [==============================] - 12s 81ms/step - loss: 0.4260 - accuracy: 0.9073 - val_loss: 3.2041 - val_accuracy: 0.2500 - lr: 0.0010\n",
            "Epoch 4/6\n",
            "149/149 [==============================] - ETA: 0s - loss: 0.4259 - accuracy: 0.8993WARNING:tensorflow:Using a generator with `use_multiprocessing=True` and multiple workers may duplicate your data. Please consider using the `tf.data.Dataset`.\n",
            "WARNING:tensorflow:multiprocessing can interact badly with TensorFlow, causing nondeterministic deadlocks. For high performance data pipelines tf.data is recommended.\n",
            "149/149 [==============================] - 12s 83ms/step - loss: 0.4259 - accuracy: 0.8993 - val_loss: 1.8193 - val_accuracy: 0.5625 - lr: 0.0010\n",
            "Epoch 5/6\n",
            "149/149 [==============================] - ETA: 0s - loss: 0.3594 - accuracy: 0.9165WARNING:tensorflow:Using a generator with `use_multiprocessing=True` and multiple workers may duplicate your data. Please consider using the `tf.data.Dataset`.\n",
            "WARNING:tensorflow:multiprocessing can interact badly with TensorFlow, causing nondeterministic deadlocks. For high performance data pipelines tf.data is recommended.\n",
            "149/149 [==============================] - 12s 84ms/step - loss: 0.3594 - accuracy: 0.9165 - val_loss: 2.0313 - val_accuracy: 0.3750 - lr: 0.0010\n",
            "Epoch 6/6\n",
            "149/149 [==============================] - ETA: 0s - loss: 0.3025 - accuracy: 0.9237WARNING:tensorflow:Using a generator with `use_multiprocessing=True` and multiple workers may duplicate your data. Please consider using the `tf.data.Dataset`.\n",
            "WARNING:tensorflow:multiprocessing can interact badly with TensorFlow, causing nondeterministic deadlocks. For high performance data pipelines tf.data is recommended.\n",
            "149/149 [==============================] - 13s 85ms/step - loss: 0.3025 - accuracy: 0.9237 - val_loss: 3.2773 - val_accuracy: 0.4414 - lr: 0.0010\n"
          ],
          "name": "stdout"
        }
      ]
    },
    {
      "cell_type": "code",
      "metadata": {
        "id": "36HlebQzCNKB",
        "colab_type": "code",
        "outputId": "00705204-c40b-49ea-8c4b-387e96e51612",
        "colab": {
          "base_uri": "https://localhost:8080/",
          "height": 1000
        }
      },
      "source": [
        "for layer in model.layers[:249]:\n",
        "   layer.trainable = False\n",
        "\n",
        "for layer in model.layers[249:]:\n",
        "   layer.trainable = True\n",
        "\n",
        "#for layer in model.layers[:172]:\n",
        "  # layer.trainable = False\n",
        "\n",
        "#for layer in model.layers[172:]:\n",
        " #  layer.trainable = True\n",
        "\n",
        "tf.keras.optimizers.SGD(lr=0.001, momentum=0.9)\n",
        "\n",
        "model.compile(optimizer='SGD', loss='categorical_crossentropy',metrics=['accuracy'])\n",
        "\n",
        "n_epoch = 28\n",
        "history2 = model.fit_generator(generator=train_generator, steps_per_epoch=STEP_SIZE_TRAIN, validation_data=valid_generator, validation_steps=STEP_SIZE_VALID, epochs=n_epoch, shuffle=True, verbose=1, callbacks=[reduce_lr, early_stop], use_multiprocessing=True, workers=16)"
      ],
      "execution_count": 12,
      "outputs": [
        {
          "output_type": "stream",
          "text": [
            "WARNING:tensorflow:Using a generator with `use_multiprocessing=True` and multiple workers may duplicate your data. Please consider using the `tf.data.Dataset`.\n",
            "Epoch 1/28\n",
            "WARNING:tensorflow:multiprocessing can interact badly with TensorFlow, causing nondeterministic deadlocks. For high performance data pipelines tf.data is recommended.\n",
            "149/149 [==============================] - ETA: 0s - loss: 0.2092 - accuracy: 0.9534WARNING:tensorflow:Using a generator with `use_multiprocessing=True` and multiple workers may duplicate your data. Please consider using the `tf.data.Dataset`.\n",
            "WARNING:tensorflow:multiprocessing can interact badly with TensorFlow, causing nondeterministic deadlocks. For high performance data pipelines tf.data is recommended.\n",
            "149/149 [==============================] - 17s 116ms/step - loss: 0.2092 - accuracy: 0.9534 - val_loss: 2.3345 - val_accuracy: 0.2578 - lr: 0.0100\n",
            "Epoch 2/28\n",
            "149/149 [==============================] - ETA: 0s - loss: 0.1489 - accuracy: 0.9664WARNING:tensorflow:Using a generator with `use_multiprocessing=True` and multiple workers may duplicate your data. Please consider using the `tf.data.Dataset`.\n",
            "WARNING:tensorflow:multiprocessing can interact badly with TensorFlow, causing nondeterministic deadlocks. For high performance data pipelines tf.data is recommended.\n",
            "149/149 [==============================] - 16s 108ms/step - loss: 0.1489 - accuracy: 0.9664 - val_loss: 2.0583 - val_accuracy: 0.3164 - lr: 0.0100\n",
            "Epoch 3/28\n",
            "149/149 [==============================] - ETA: 0s - loss: 0.1362 - accuracy: 0.9643WARNING:tensorflow:Using a generator with `use_multiprocessing=True` and multiple workers may duplicate your data. Please consider using the `tf.data.Dataset`.\n",
            "WARNING:tensorflow:multiprocessing can interact badly with TensorFlow, causing nondeterministic deadlocks. For high performance data pipelines tf.data is recommended.\n",
            "149/149 [==============================] - 16s 110ms/step - loss: 0.1362 - accuracy: 0.9643 - val_loss: 1.4828 - val_accuracy: 0.6055 - lr: 0.0100\n",
            "Epoch 4/28\n",
            "149/149 [==============================] - ETA: 0s - loss: 0.1148 - accuracy: 0.9685WARNING:tensorflow:Using a generator with `use_multiprocessing=True` and multiple workers may duplicate your data. Please consider using the `tf.data.Dataset`.\n",
            "WARNING:tensorflow:multiprocessing can interact badly with TensorFlow, causing nondeterministic deadlocks. For high performance data pipelines tf.data is recommended.\n",
            "149/149 [==============================] - 17s 115ms/step - loss: 0.1148 - accuracy: 0.9685 - val_loss: 2.1896 - val_accuracy: 0.3242 - lr: 0.0100\n",
            "Epoch 5/28\n",
            "149/149 [==============================] - ETA: 0s - loss: 0.1157 - accuracy: 0.9698WARNING:tensorflow:Using a generator with `use_multiprocessing=True` and multiple workers may duplicate your data. Please consider using the `tf.data.Dataset`.\n",
            "WARNING:tensorflow:multiprocessing can interact badly with TensorFlow, causing nondeterministic deadlocks. For high performance data pipelines tf.data is recommended.\n",
            "149/149 [==============================] - 16s 109ms/step - loss: 0.1157 - accuracy: 0.9698 - val_loss: 1.8057 - val_accuracy: 0.4414 - lr: 0.0100\n",
            "Epoch 6/28\n",
            "149/149 [==============================] - ETA: 0s - loss: 0.0963 - accuracy: 0.9723WARNING:tensorflow:Using a generator with `use_multiprocessing=True` and multiple workers may duplicate your data. Please consider using the `tf.data.Dataset`.\n",
            "WARNING:tensorflow:multiprocessing can interact badly with TensorFlow, causing nondeterministic deadlocks. For high performance data pipelines tf.data is recommended.\n",
            "149/149 [==============================] - 21s 141ms/step - loss: 0.0963 - accuracy: 0.9723 - val_loss: 1.4212 - val_accuracy: 0.6211 - lr: 0.0100\n",
            "Epoch 7/28\n",
            "149/149 [==============================] - ETA: 0s - loss: 0.1275 - accuracy: 0.9631WARNING:tensorflow:Using a generator with `use_multiprocessing=True` and multiple workers may duplicate your data. Please consider using the `tf.data.Dataset`.\n",
            "WARNING:tensorflow:multiprocessing can interact badly with TensorFlow, causing nondeterministic deadlocks. For high performance data pipelines tf.data is recommended.\n",
            "149/149 [==============================] - 18s 121ms/step - loss: 0.1275 - accuracy: 0.9631 - val_loss: 1.4832 - val_accuracy: 0.6289 - lr: 0.0100\n",
            "Epoch 8/28\n",
            "149/149 [==============================] - ETA: 0s - loss: 0.1199 - accuracy: 0.9702WARNING:tensorflow:Using a generator with `use_multiprocessing=True` and multiple workers may duplicate your data. Please consider using the `tf.data.Dataset`.\n",
            "WARNING:tensorflow:multiprocessing can interact badly with TensorFlow, causing nondeterministic deadlocks. For high performance data pipelines tf.data is recommended.\n",
            "149/149 [==============================] - 16s 109ms/step - loss: 0.1199 - accuracy: 0.9702 - val_loss: 1.1913 - val_accuracy: 0.7188 - lr: 0.0100\n",
            "Epoch 9/28\n",
            "149/149 [==============================] - ETA: 0s - loss: 0.1274 - accuracy: 0.9652WARNING:tensorflow:Using a generator with `use_multiprocessing=True` and multiple workers may duplicate your data. Please consider using the `tf.data.Dataset`.\n",
            "WARNING:tensorflow:multiprocessing can interact badly with TensorFlow, causing nondeterministic deadlocks. For high performance data pipelines tf.data is recommended.\n",
            "149/149 [==============================] - 16s 110ms/step - loss: 0.1274 - accuracy: 0.9652 - val_loss: 2.4597 - val_accuracy: 0.3281 - lr: 0.0100\n",
            "Epoch 10/28\n",
            "149/149 [==============================] - ETA: 0s - loss: 0.1106 - accuracy: 0.9681WARNING:tensorflow:Using a generator with `use_multiprocessing=True` and multiple workers may duplicate your data. Please consider using the `tf.data.Dataset`.\n",
            "WARNING:tensorflow:multiprocessing can interact badly with TensorFlow, causing nondeterministic deadlocks. For high performance data pipelines tf.data is recommended.\n",
            "149/149 [==============================] - 16s 109ms/step - loss: 0.1106 - accuracy: 0.9681 - val_loss: 1.2265 - val_accuracy: 0.4390 - lr: 0.0100\n",
            "Epoch 11/28\n",
            "149/149 [==============================] - ETA: 0s - loss: 0.1168 - accuracy: 0.9690WARNING:tensorflow:Using a generator with `use_multiprocessing=True` and multiple workers may duplicate your data. Please consider using the `tf.data.Dataset`.\n",
            "WARNING:tensorflow:multiprocessing can interact badly with TensorFlow, causing nondeterministic deadlocks. For high performance data pipelines tf.data is recommended.\n",
            "149/149 [==============================] - 16s 108ms/step - loss: 0.1168 - accuracy: 0.9690 - val_loss: 0.6744 - val_accuracy: 0.6604 - lr: 0.0100\n",
            "Epoch 12/28\n",
            "149/149 [==============================] - ETA: 0s - loss: 0.1036 - accuracy: 0.9660WARNING:tensorflow:Using a generator with `use_multiprocessing=True` and multiple workers may duplicate your data. Please consider using the `tf.data.Dataset`.\n",
            "WARNING:tensorflow:multiprocessing can interact badly with TensorFlow, causing nondeterministic deadlocks. For high performance data pipelines tf.data is recommended.\n",
            "149/149 [==============================] - 17s 111ms/step - loss: 0.1036 - accuracy: 0.9660 - val_loss: 1.2711 - val_accuracy: 0.7422 - lr: 0.0100\n",
            "Epoch 13/28\n",
            "149/149 [==============================] - ETA: 0s - loss: 0.0892 - accuracy: 0.9723WARNING:tensorflow:Using a generator with `use_multiprocessing=True` and multiple workers may duplicate your data. Please consider using the `tf.data.Dataset`.\n",
            "WARNING:tensorflow:multiprocessing can interact badly with TensorFlow, causing nondeterministic deadlocks. For high performance data pipelines tf.data is recommended.\n",
            "149/149 [==============================] - 16s 109ms/step - loss: 0.0892 - accuracy: 0.9723 - val_loss: 1.4431 - val_accuracy: 0.4453 - lr: 0.0100\n",
            "Epoch 14/28\n",
            "149/149 [==============================] - ETA: 0s - loss: 0.1037 - accuracy: 0.9702WARNING:tensorflow:Using a generator with `use_multiprocessing=True` and multiple workers may duplicate your data. Please consider using the `tf.data.Dataset`.\n",
            "WARNING:tensorflow:multiprocessing can interact badly with TensorFlow, causing nondeterministic deadlocks. For high performance data pipelines tf.data is recommended.\n",
            "149/149 [==============================] - 17s 113ms/step - loss: 0.1037 - accuracy: 0.9702 - val_loss: 1.4668 - val_accuracy: 0.5156 - lr: 0.0100\n",
            "Epoch 15/28\n",
            "149/149 [==============================] - ETA: 0s - loss: 0.0947 - accuracy: 0.9732WARNING:tensorflow:Using a generator with `use_multiprocessing=True` and multiple workers may duplicate your data. Please consider using the `tf.data.Dataset`.\n",
            "WARNING:tensorflow:multiprocessing can interact badly with TensorFlow, causing nondeterministic deadlocks. For high performance data pipelines tf.data is recommended.\n",
            "149/149 [==============================] - 17s 111ms/step - loss: 0.0947 - accuracy: 0.9732 - val_loss: 0.9441 - val_accuracy: 0.5664 - lr: 0.0100\n",
            "Epoch 16/28\n",
            "149/149 [==============================] - ETA: 0s - loss: 0.1148 - accuracy: 0.9706WARNING:tensorflow:Using a generator with `use_multiprocessing=True` and multiple workers may duplicate your data. Please consider using the `tf.data.Dataset`.\n",
            "WARNING:tensorflow:multiprocessing can interact badly with TensorFlow, causing nondeterministic deadlocks. For high performance data pipelines tf.data is recommended.\n",
            "\n",
            "Epoch 00016: ReduceLROnPlateau reducing learning rate to 0.0009999999776482583.\n",
            "149/149 [==============================] - 16s 110ms/step - loss: 0.1148 - accuracy: 0.9706 - val_loss: 1.8107 - val_accuracy: 0.6133 - lr: 0.0100\n",
            "Epoch 17/28\n",
            "149/149 [==============================] - ETA: 0s - loss: 0.1591 - accuracy: 0.9673WARNING:tensorflow:Using a generator with `use_multiprocessing=True` and multiple workers may duplicate your data. Please consider using the `tf.data.Dataset`.\n",
            "WARNING:tensorflow:multiprocessing can interact badly with TensorFlow, causing nondeterministic deadlocks. For high performance data pipelines tf.data is recommended.\n",
            "149/149 [==============================] - 17s 111ms/step - loss: 0.1591 - accuracy: 0.9673 - val_loss: 1.8357 - val_accuracy: 0.4453 - lr: 1.0000e-03\n",
            "Epoch 18/28\n",
            "149/149 [==============================] - ETA: 0s - loss: 0.1522 - accuracy: 0.9736WARNING:tensorflow:Using a generator with `use_multiprocessing=True` and multiple workers may duplicate your data. Please consider using the `tf.data.Dataset`.\n",
            "WARNING:tensorflow:multiprocessing can interact badly with TensorFlow, causing nondeterministic deadlocks. For high performance data pipelines tf.data is recommended.\n",
            "149/149 [==============================] - 17s 113ms/step - loss: 0.1522 - accuracy: 0.9736 - val_loss: 1.3055 - val_accuracy: 0.6172 - lr: 1.0000e-03\n",
            "Epoch 19/28\n",
            "149/149 [==============================] - ETA: 0s - loss: 0.1686 - accuracy: 0.9723WARNING:tensorflow:Using a generator with `use_multiprocessing=True` and multiple workers may duplicate your data. Please consider using the `tf.data.Dataset`.\n",
            "WARNING:tensorflow:multiprocessing can interact badly with TensorFlow, causing nondeterministic deadlocks. For high performance data pipelines tf.data is recommended.\n",
            "149/149 [==============================] - 17s 113ms/step - loss: 0.1686 - accuracy: 0.9723 - val_loss: 1.5669 - val_accuracy: 0.6211 - lr: 1.0000e-03\n",
            "Epoch 20/28\n",
            "149/149 [==============================] - ETA: 0s - loss: 0.1759 - accuracy: 0.9656WARNING:tensorflow:Using a generator with `use_multiprocessing=True` and multiple workers may duplicate your data. Please consider using the `tf.data.Dataset`.\n",
            "WARNING:tensorflow:multiprocessing can interact badly with TensorFlow, causing nondeterministic deadlocks. For high performance data pipelines tf.data is recommended.\n",
            "149/149 [==============================] - 17s 112ms/step - loss: 0.1759 - accuracy: 0.9656 - val_loss: 1.6753 - val_accuracy: 0.5000 - lr: 1.0000e-03\n",
            "Epoch 21/28\n",
            "149/149 [==============================] - ETA: 0s - loss: 0.1366 - accuracy: 0.9719WARNING:tensorflow:Using a generator with `use_multiprocessing=True` and multiple workers may duplicate your data. Please consider using the `tf.data.Dataset`.\n",
            "WARNING:tensorflow:multiprocessing can interact badly with TensorFlow, causing nondeterministic deadlocks. For high performance data pipelines tf.data is recommended.\n",
            "\n",
            "Epoch 00021: ReduceLROnPlateau reducing learning rate to 9.999999310821295e-05.\n",
            "149/149 [==============================] - 17s 116ms/step - loss: 0.1366 - accuracy: 0.9719 - val_loss: 1.4520 - val_accuracy: 0.5625 - lr: 1.0000e-03\n",
            "Epoch 22/28\n",
            "149/149 [==============================] - ETA: 0s - loss: 0.6597 - accuracy: 0.8096WARNING:tensorflow:Using a generator with `use_multiprocessing=True` and multiple workers may duplicate your data. Please consider using the `tf.data.Dataset`.\n",
            "WARNING:tensorflow:multiprocessing can interact badly with TensorFlow, causing nondeterministic deadlocks. For high performance data pipelines tf.data is recommended.\n",
            "149/149 [==============================] - 19s 125ms/step - loss: 0.6597 - accuracy: 0.8096 - val_loss: 1.2557 - val_accuracy: 0.6328 - lr: 1.0000e-04\n",
            "Epoch 23/28\n",
            "149/149 [==============================] - ETA: 0s - loss: 0.6566 - accuracy: 0.8226WARNING:tensorflow:Using a generator with `use_multiprocessing=True` and multiple workers may duplicate your data. Please consider using the `tf.data.Dataset`.\n",
            "WARNING:tensorflow:multiprocessing can interact badly with TensorFlow, causing nondeterministic deadlocks. For high performance data pipelines tf.data is recommended.\n",
            "149/149 [==============================] - 18s 124ms/step - loss: 0.6566 - accuracy: 0.8226 - val_loss: 0.9751 - val_accuracy: 0.7461 - lr: 1.0000e-04\n",
            "Epoch 24/28\n",
            "149/149 [==============================] - ETA: 0s - loss: 0.6008 - accuracy: 0.8205WARNING:tensorflow:Using a generator with `use_multiprocessing=True` and multiple workers may duplicate your data. Please consider using the `tf.data.Dataset`.\n",
            "WARNING:tensorflow:multiprocessing can interact badly with TensorFlow, causing nondeterministic deadlocks. For high performance data pipelines tf.data is recommended.\n",
            "149/149 [==============================] - 18s 123ms/step - loss: 0.6008 - accuracy: 0.8205 - val_loss: 1.0298 - val_accuracy: 0.7383 - lr: 1.0000e-04\n",
            "Epoch 25/28\n",
            "149/149 [==============================] - ETA: 0s - loss: 0.5808 - accuracy: 0.8398WARNING:tensorflow:Using a generator with `use_multiprocessing=True` and multiple workers may duplicate your data. Please consider using the `tf.data.Dataset`.\n",
            "WARNING:tensorflow:multiprocessing can interact badly with TensorFlow, causing nondeterministic deadlocks. For high performance data pipelines tf.data is recommended.\n",
            "149/149 [==============================] - 18s 123ms/step - loss: 0.5808 - accuracy: 0.8398 - val_loss: 1.7502 - val_accuracy: 0.5625 - lr: 1.0000e-04\n",
            "Epoch 26/28\n",
            "149/149 [==============================] - ETA: 0s - loss: 0.4807 - accuracy: 0.8775WARNING:tensorflow:Using a generator with `use_multiprocessing=True` and multiple workers may duplicate your data. Please consider using the `tf.data.Dataset`.\n",
            "WARNING:tensorflow:multiprocessing can interact badly with TensorFlow, causing nondeterministic deadlocks. For high performance data pipelines tf.data is recommended.\n",
            "\n",
            "Epoch 00026: ReduceLROnPlateau reducing learning rate to 9.999999019782991e-06.\n",
            "149/149 [==============================] - 19s 126ms/step - loss: 0.4807 - accuracy: 0.8775 - val_loss: 1.0967 - val_accuracy: 0.5039 - lr: 1.0000e-04\n",
            "Epoch 27/28\n",
            "149/149 [==============================] - ETA: 0s - loss: 0.6464 - accuracy: 0.7827WARNING:tensorflow:Using a generator with `use_multiprocessing=True` and multiple workers may duplicate your data. Please consider using the `tf.data.Dataset`.\n",
            "WARNING:tensorflow:multiprocessing can interact badly with TensorFlow, causing nondeterministic deadlocks. For high performance data pipelines tf.data is recommended.\n",
            "149/149 [==============================] - 19s 128ms/step - loss: 0.6464 - accuracy: 0.7827 - val_loss: 1.0216 - val_accuracy: 0.5625 - lr: 1.0000e-05\n",
            "Epoch 28/28\n",
            "149/149 [==============================] - ETA: 0s - loss: 1.0552 - accuracy: 0.6397WARNING:tensorflow:Using a generator with `use_multiprocessing=True` and multiple workers may duplicate your data. Please consider using the `tf.data.Dataset`.\n",
            "WARNING:tensorflow:multiprocessing can interact badly with TensorFlow, causing nondeterministic deadlocks. For high performance data pipelines tf.data is recommended.\n",
            "149/149 [==============================] - 19s 125ms/step - loss: 1.0552 - accuracy: 0.6397 - val_loss: 1.6137 - val_accuracy: 0.5377 - lr: 1.0000e-05\n"
          ],
          "name": "stdout"
        }
      ]
    },
    {
      "cell_type": "code",
      "metadata": {
        "id": "EpicnU3mJGiw",
        "colab_type": "code",
        "colab": {}
      },
      "source": [
        "#score = model.evaluate_generator(train_generator, verbose=1)\n",
        "#print(\"Prediction accuracy on train data =\", score[1])"
      ],
      "execution_count": 0,
      "outputs": []
    },
    {
      "cell_type": "code",
      "metadata": {
        "id": "m01UFi_UJG08",
        "colab_type": "code",
        "colab": {}
      },
      "source": [
        "#score = model.evaluate_generator(valid_generator, verbose=1)\n",
        "#print(\"Prediction accuracy on CV data =\", score[1])"
      ],
      "execution_count": 0,
      "outputs": []
    },
    {
      "cell_type": "code",
      "metadata": {
        "id": "4ff-cn9YIw3e",
        "colab_type": "code",
        "colab": {}
      },
      "source": [
        "# serialize weights to HDF5 & model to json\n",
        "##model.save_weights('/content/gdrive/My Drive/Final_project_data/model_weights140420v2.h5')\n",
        "#print(\"Saved model to disk\")\n",
        "#model_json = model.to_json()\n",
        "# Save the model architecture\n",
        "#with open('/content/gdrive/My Drive/Final_project_data/model_architecture140420v2.json', 'w') as f:\n",
        " #   f.write(model.to_json())\n",
        "#print(\"Saved model to disk2\")    "
      ],
      "execution_count": 0,
      "outputs": []
    },
    {
      "cell_type": "code",
      "metadata": {
        "id": "SmCABr-_-WVj",
        "colab_type": "code",
        "colab": {}
      },
      "source": [
        "model.save('/content/gdrive/My Drive/Final_project_data/my_model150420v3.h5')"
      ],
      "execution_count": 0,
      "outputs": []
    },
    {
      "cell_type": "code",
      "metadata": {
        "id": "Avcjeja4Em13",
        "colab_type": "code",
        "colab": {}
      },
      "source": [
        "#new_model_2 = load_model('/content/gdrive/My Drive/Final_project_data/my_model140420v2.h5')"
      ],
      "execution_count": 0,
      "outputs": []
    },
    {
      "cell_type": "code",
      "metadata": {
        "id": "vnrtufdQJL9X",
        "colab_type": "code",
        "outputId": "cf11d158-90da-49f7-d2f5-32a8399ce222",
        "colab": {
          "base_uri": "https://localhost:8080/",
          "height": 1000
        }
      },
      "source": [
        " # Classification report and confusion matrix\n",
        "from sklearn.metrics import *\n",
        "import seaborn as sns\n",
        "\n",
        "tick_labels = artists_top_name.tolist()\n",
        "\n",
        "def showClassficationReport_Generator(model, valid_generator, STEP_SIZE_VALID):\n",
        "    # Loop on each generator batch and predict\n",
        "    y_pred, y_true = [], []\n",
        "    for i in range(STEP_SIZE_VALID):\n",
        "        (X,y) = next(valid_generator)\n",
        "        y_pred.append(model.predict(X))\n",
        "        y_true.append(y)\n",
        "    \n",
        "    # Create a flat list for y_true and y_pred\n",
        "    y_pred = [subresult for result in y_pred for subresult in result]\n",
        "    y_true = [subresult for result in y_true for subresult in result]\n",
        "    \n",
        "    # Update Truth vector based on argmax\n",
        "    y_true = np.argmax(y_true, axis=1)\n",
        "    y_true = np.asarray(y_true).ravel()\n",
        "    \n",
        "    # Update Prediction vector based on argmax\n",
        "    y_pred = np.argmax(y_pred, axis=1)\n",
        "    y_pred = np.asarray(y_pred).ravel()\n",
        "    \n",
        "    # Confusion Matrix\n",
        "    fig, ax = plt.subplots(figsize=(10,10))\n",
        "    conf_matrix = confusion_matrix(y_true, y_pred, labels=np.arange(n_classes))\n",
        "    conf_matrix = conf_matrix/np.sum(conf_matrix, axis=1)\n",
        "    sns.heatmap(conf_matrix, annot=True, fmt=\".2f\", square=True, cbar=False, \n",
        "                cmap=plt.cm.jet, xticklabels=tick_labels, yticklabels=tick_labels,\n",
        "                ax=ax)\n",
        "    ax.set_ylabel('Actual')\n",
        "    ax.set_xlabel('Predicted')\n",
        "    ax.set_title('Confusion Matrix')\n",
        "    plt.show()\n",
        "    \n",
        "    print('Classification Report:')\n",
        "    print(classification_report(y_true, y_pred, labels=np.arange(n_classes), target_names=artists_top_name.tolist()))\n",
        "\n",
        "    return y_pred, y_true\n",
        "\n",
        "y_pred, y_true = showClassficationReport_Generator(model, valid_generator, STEP_SIZE_VALID)"
      ],
      "execution_count": 18,
      "outputs": [
        {
          "output_type": "stream",
          "text": [
            "/usr/local/lib/python3.6/dist-packages/statsmodels/tools/_testing.py:19: FutureWarning: pandas.util.testing is deprecated. Use the functions in the public API at pandas.testing instead.\n",
            "  import pandas.util.testing as tm\n"
          ],
          "name": "stderr"
        },
        {
          "output_type": "display_data",
          "data": {
            "image/png": "[encoded data removed]",
            "text/plain": [
              "<Figure size 720x720 with 1 Axes>"
            ]
          },
          "metadata": {
            "tags": [],
            "needs_background": "light"
          }
        },
        {
          "output_type": "stream",
          "text": [
            "Classification Report:\n",
            "                       precision    recall  f1-score   support\n",
            "\n",
            "     Vincent_van_Gogh       0.55      0.46      0.50        24\n",
            "        Pablo_Picasso       0.55      0.68      0.61        25\n",
            "Pierre-Auguste_Renoir       0.53      0.75      0.62        24\n",
            "       Francisco_Goya       0.64      0.56      0.60        25\n",
            "       Albrecht_Dürer       0.80      0.83      0.82        24\n",
            "        Alfred_Sisley       0.85      0.77      0.81        22\n",
            "         Marc_Chagall       0.67      0.53      0.59        19\n",
            "          Edgar_Degas       0.72      0.54      0.62        24\n",
            "            Rembrandt       0.66      0.83      0.73        23\n",
            "               Titian       0.52      0.62      0.57        21\n",
            "         Paul_Gauguin       0.71      0.48      0.57        25\n",
            "\n",
            "             accuracy                           0.64       256\n",
            "            macro avg       0.65      0.64      0.64       256\n",
            "         weighted avg       0.65      0.64      0.64       256\n",
            "\n"
          ],
          "name": "stdout"
        }
      ]
    },
    {
      "cell_type": "code",
      "metadata": {
        "id": "Wu2fLG0V14Mt",
        "colab_type": "code",
        "outputId": "667e9bea-58f5-4a6f-fbe8-1544b8898b3b",
        "colab": {
          "base_uri": "https://localhost:8080/",
          "height": 289
        }
      },
      "source": [
        "y_pred\n",
        "y_true"
      ],
      "execution_count": 19,
      "outputs": [
        {
          "output_type": "execute_result",
          "data": {
            "text/plain": [
              "array([ 2,  1,  8,  3,  4,  4,  3,  0,  5,  8,  2,  3,  1,  8,  9,  8,  0,\n",
              "       10,  5,  1,  7, 10,  8,  2,  6,  1,  1,  5,  0,  3,  3,  0,  2,  8,\n",
              "        5, 10, 10, 10,  3,  9,  3,  1,  5,  2,  7,  7, 10,  8,  6,  5,  3,\n",
              "        9,  4,  1,  8,  1,  8,  4, 10,  0, 10, 10,  5,  4,  7,  9,  1,  7,\n",
              "        2,  4,  6,  3,  9,  1,  3,  4,  6, 10,  3,  2,  2,  7,  0,  1,  6,\n",
              "        9,  9,  9,  8,  5,  6,  8,  6,  7,  1,  9,  2,  7,  2,  3,  6,  5,\n",
              "        2,  3,  7,  5,  4,  6,  0,  0,  7,  3,  3,  9, 10, 10,  4, 10,  9,\n",
              "        6,  0, 10,  1,  1,  9,  2,  1, 10,  2,  6, 10,  2,  7,  0,  8,  4,\n",
              "       10,  2,  9, 10,  2,  7,  2,  0,  7,  3,  1,  8,  0,  6,  4,  4,  5,\n",
              "        5,  3,  4,  8,  3,  9,  8,  8,  3,  6,  9,  0,  5,  3,  6,  4,  6,\n",
              "        9,  7,  7,  7,  6, 10,  0, 10,  8,  5,  0,  1,  0,  9,  1,  7,  4,\n",
              "        1,  5,  4,  9,  4,  1,  2,  7,  6, 10,  8,  4,  8,  0,  7,  1,  0,\n",
              "        7,  3,  0,  9,  8,  4,  2,  0,  5,  4,  0,  0,  7,  2,  3,  5, 10,\n",
              "       10,  3,  9,  1,  2,  8,  2,  7,  2,  5,  8,  5,  2,  4,  1,  0,  1,\n",
              "        7,  1,  3, 10,  4,  9,  5,  4,  5,  6,  7, 10,  6,  5,  8,  3,  0,\n",
              "        4])"
            ]
          },
          "metadata": {
            "tags": []
          },
          "execution_count": 19
        }
      ]
    },
    {
      "cell_type": "code",
      "metadata": {
        "id": "fKRkmaYVIpYW",
        "colab_type": "code",
        "outputId": "ca010e5e-d2ce-4ab9-efd7-ed30e466c863",
        "colab": {
          "base_uri": "https://localhost:8080/",
          "height": 282
        }
      },
      "source": [
        "#Calculating roc and auc curves\n",
        "y_true = y_true # true labels\n",
        "y_probas = y_pred # predicted results\n",
        "fpr, tpr, thresholds = metrics.roc_curve(y_true, y_probas, pos_label=0)\n",
        "\n",
        "# Print ROC curve\n",
        "plt.plot(fpr,tpr)\n",
        "plt.show() \n",
        "\n",
        "# Print AUC\n",
        "auc = np.trapz(tpr,fpr)\n",
        "print('AUC:', auc)"
      ],
      "execution_count": 20,
      "outputs": [
        {
          "output_type": "display_data",
          "data": {
            "image/png": "[encoded data removed]",
            "text/plain": [
              "<Figure size 432x288 with 1 Axes>"
            ]
          },
          "metadata": {
            "tags": [],
            "needs_background": "light"
          }
        },
        {
          "output_type": "stream",
          "text": [
            "AUC: 0.15741738505747127\n"
          ],
          "name": "stdout"
        }
      ]
    },
    {
      "cell_type": "code",
      "metadata": {
        "id": "LP3lyjgB7Vdc",
        "colab_type": "code",
        "outputId": "ab47e2c6-b943-4436-aa3b-13c7e63da80f",
        "colab": {
          "base_uri": "https://localhost:8080/",
          "height": 214
        }
      },
      "source": [
        "fpr = dict()\n",
        "tpr = dict()\n",
        "roc_auc = dict()\n",
        "for i in range(n_classes):\n",
        "    fpr[i], tpr[i], _ = roc_curve(y_true[:, i], y_pred[:, i])\n",
        "    roc_auc[i] = auc(fpr[i], tpr[i])"
      ],
      "execution_count": 21,
      "outputs": [
        {
          "output_type": "error",
          "ename": "IndexError",
          "evalue": "ignored",
          "traceback": [
            "\u001b[0;31m---------------------------------------------------------------------------\u001b[0m",
            "\u001b[0;31mIndexError\u001b[0m                                Traceback (most recent call last)",
            "\u001b[0;32m<ipython-input-21-5a51db01e3a9>\u001b[0m in \u001b[0;36m<module>\u001b[0;34m()\u001b[0m\n\u001b[1;32m      3\u001b[0m \u001b[0mroc_auc\u001b[0m \u001b[0;34m=\u001b[0m \u001b[0mdict\u001b[0m\u001b[0;34m(\u001b[0m\u001b[0;34m)\u001b[0m\u001b[0;34m\u001b[0m\u001b[0;34m\u001b[0m\u001b[0m\n\u001b[1;32m      4\u001b[0m \u001b[0;32mfor\u001b[0m \u001b[0mi\u001b[0m \u001b[0;32min\u001b[0m \u001b[0mrange\u001b[0m\u001b[0;34m(\u001b[0m\u001b[0mn_classes\u001b[0m\u001b[0;34m)\u001b[0m\u001b[0;34m:\u001b[0m\u001b[0;34m\u001b[0m\u001b[0;34m\u001b[0m\u001b[0m\n\u001b[0;32m----> 5\u001b[0;31m     \u001b[0mfpr\u001b[0m\u001b[0;34m[\u001b[0m\u001b[0mi\u001b[0m\u001b[0;34m]\u001b[0m\u001b[0;34m,\u001b[0m \u001b[0mtpr\u001b[0m\u001b[0;34m[\u001b[0m\u001b[0mi\u001b[0m\u001b[0;34m]\u001b[0m\u001b[0;34m,\u001b[0m \u001b[0m_\u001b[0m \u001b[0;34m=\u001b[0m \u001b[0mroc_curve\u001b[0m\u001b[0;34m(\u001b[0m\u001b[0my_true\u001b[0m\u001b[0;34m[\u001b[0m\u001b[0;34m:\u001b[0m\u001b[0;34m,\u001b[0m \u001b[0mi\u001b[0m\u001b[0;34m]\u001b[0m\u001b[0;34m,\u001b[0m \u001b[0my_pred\u001b[0m\u001b[0;34m[\u001b[0m\u001b[0;34m:\u001b[0m\u001b[0;34m,\u001b[0m \u001b[0mi\u001b[0m\u001b[0;34m]\u001b[0m\u001b[0;34m)\u001b[0m\u001b[0;34m\u001b[0m\u001b[0;34m\u001b[0m\u001b[0m\n\u001b[0m\u001b[1;32m      6\u001b[0m     \u001b[0mroc_auc\u001b[0m\u001b[0;34m[\u001b[0m\u001b[0mi\u001b[0m\u001b[0;34m]\u001b[0m \u001b[0;34m=\u001b[0m \u001b[0mauc\u001b[0m\u001b[0;34m(\u001b[0m\u001b[0mfpr\u001b[0m\u001b[0;34m[\u001b[0m\u001b[0mi\u001b[0m\u001b[0;34m]\u001b[0m\u001b[0;34m,\u001b[0m \u001b[0mtpr\u001b[0m\u001b[0;34m[\u001b[0m\u001b[0mi\u001b[0m\u001b[0;34m]\u001b[0m\u001b[0;34m)\u001b[0m\u001b[0;34m\u001b[0m\u001b[0;34m\u001b[0m\u001b[0m\n",
            "\u001b[0;31mIndexError\u001b[0m: too many indices for array"
          ]
        }
      ]
    },
    {
      "cell_type": "code",
      "metadata": {
        "id": "hR2fN3I7OjYq",
        "colab_type": "code",
        "colab": {}
      },
      "source": [
        "# serialize model to JSON\n",
        "#model_json = model.to_json()\n",
        "#with open(\"/content/gdrive/My Drive/Final_project_data/JI3-FC-34TE-130420v3.json\", \"w\") as json_file:\n",
        " #   json_file.write(json.dumps(json.loads(model_json), indent=4))\n",
        "#json_config = model.to_json(\"/content/gdrive/My Drive/Final_project_data/JI3-FC-34TE-130420v3.json\")\n"
      ],
      "execution_count": 0,
      "outputs": []
    },
    {
      "cell_type": "code",
      "metadata": {
        "id": "5ZXd2H8TSXUQ",
        "colab_type": "code",
        "colab": {}
      },
      "source": [
        "# Creates a HDF5 file 'my_model.h5'\n",
        "model.save('/content/gdrive/My Drive/Final_project_data/my_model140420v22.h5')\n",
        "\n",
        "# Deletes the existing model\n",
        "del model \n",
        "#model.save('/content/gdrive/My Drive/Final_project_data/MI3-FC-34TE-130420v3.h5') "
      ],
      "execution_count": 0,
      "outputs": []
    },
    {
      "cell_type": "code",
      "metadata": {
        "id": "VUYGc1L4Ixn0",
        "colab_type": "code",
        "colab": {}
      },
      "source": [
        "#Calculating roc and auc scores\n",
        "y_pred_keras = y_pred\n",
        "fpr_keras, tpr_keras, thresholds_keras = roc_curve(y_true, y_pred_keras, pos_label=0)\n",
        "\n",
        "auc_keras = auc(fpr_keras, tpr_keras)\n",
        "print(fpr_keras, tpr_keras, thresholds_keras)\n",
        "print(auc_keras)"
      ],
      "execution_count": 0,
      "outputs": []
    },
    {
      "cell_type": "code",
      "metadata": {
        "id": "q97m2obtUvyf",
        "colab_type": "code",
        "colab": {}
      },
      "source": [
        "\n",
        "roc_auc_score(y_true, y_pred, multi_class='ovo')"
      ],
      "execution_count": 0,
      "outputs": []
    }
  ]
}