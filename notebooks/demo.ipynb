{
 "cells": [
  {
   "cell_type": "code",
   "execution_count": 1,
   "metadata": {},
   "outputs": [
    {
     "name": "stderr",
     "output_type": "stream",
     "text": [
      "Using TensorFlow backend.\n"
     ]
    }
   ],
   "source": [
    "import pandas as pd\n",
    "import numpy as np\n",
    "import os\n",
    "import matplotlib \n",
    "import matplotlib.pyplot as plt\n",
    "import random\n",
    "import json\n",
    "import keras\n",
    "\n",
    "import tensorflow as tf\n",
    "from tensorflow.python.keras.models import model_from_json, load_model\n",
    "from tensorflow.python.keras.applications.inception_v3 import InceptionV3\n",
    "from tensorflow.python.keras.preprocessing import *\n",
    "from tensorflow.python.keras.models import Model\n",
    "from tensorflow.python.keras.optimizers import RMSprop, SGD\n",
    "from tensorflow.python.keras.layers import Dense, GlobalAveragePooling2D\n",
    "from keras import backend as K\n",
    "from tensorflow.keras.preprocessing.image import ImageDataGenerator\n",
    "from tensorflow.keras.callbacks import *"
   ]
  },
  {
   "cell_type": "code",
   "execution_count": 33,
   "metadata": {},
   "outputs": [
    {
     "name": "stdout",
     "output_type": "stream",
     "text": [
      "Found 319 images belonging to 11 classes.\n",
      "{0: 'Vincent van Gogh', 1: 'Pablo Picasso', 2: 'Pierre-Auguste Renoir', 3: 'Francisco Goya', 4: 'Albrecht Dürer', 5: 'Alfred Sisley', 6: 'Marc Chagall', 7: 'Edgar Degas', 8: 'Rembrandt', 9: 'Titian', 10: 'Paul Gauguin'}\n"
     ]
    }
   ],
   "source": [
    "images_dir = '../data_images/resized/resized_demo_test'\n",
    "data_artists = pd.read_csv('../data/processed/data_artists.csv')\n",
    "artists_dirs = os.listdir(images_dir)\n",
    "artists_top_name = data_artists['name'].str.replace(' ', '_').values\n",
    "train_input_shape = (128, 128, 3)\n",
    "n_classes = artists_top_name.shape[0]\n",
    "\n",
    "#train_datagen=ImageDataGenerator(validation_split=0.1,rescale=1./255.,horizontal_flip=True,vertical_flip=True)\n",
    "train_generator=train_datagen.flow_from_directory(directory=images_dir,class_mode='categorical',target_size=train_input_shape,batch_size=batch_size,subset=\"training\",shuffle=True,classes=artists_top_name.tolist())\n",
    "\n",
    "#labels = data_artists['name'].to_dict()\n",
    "#print(labels)"
   ]
  },
  {
   "cell_type": "code",
   "execution_count": 8,
   "metadata": {},
   "outputs": [
    {
     "name": "stdout",
     "output_type": "stream",
     "text": [
      "WARNING:tensorflow:Error in loading the saved optimizer state. As a result, your model is starting with a freshly initialized optimizer.\n"
     ]
    }
   ],
   "source": [
    "model = load_model('../data/results/my_model170420RNv3.h5')"
   ]
  },
  {
   "cell_type": "code",
   "execution_count": 56,
   "metadata": {},
   "outputs": [
    {
     "name": "stdout",
     "output_type": "stream",
     "text": [
      "{0: 'Vincent van Gogh', 1: 'Pablo Picasso', 2: 'Pierre-Auguste Renoir', 3: 'Francisco Goya', 4: 'Albrecht Dürer', 5: 'Alfred Sisley', 6: 'Marc Chagall', 7: 'Edgar Degas', 8: 'Rembrandt', 9: 'Titian', 10: 'Paul Gauguin'}\n"
     ]
    },
    {
     "ename": "KeyError",
     "evalue": "4",
     "output_type": "error",
     "traceback": [
      "\u001b[0;31m---------------------------------------------------------------------------\u001b[0m",
      "\u001b[0;31mKeyError\u001b[0m                                  Traceback (most recent call last)",
      "\u001b[0;32m<ipython-input-56-9c51cb19743b>\u001b[0m in \u001b[0;36m<module>\u001b[0;34m\u001b[0m\n\u001b[1;32m     28\u001b[0m     \u001b[0;31m#print(\"Prediction probability =\", prediction_probability*100, \"%\")\u001b[0m\u001b[0;34m\u001b[0m\u001b[0;34m\u001b[0m\u001b[0m\n\u001b[1;32m     29\u001b[0m \u001b[0;34m\u001b[0m\u001b[0m\n\u001b[0;32m---> 30\u001b[0;31m     \u001b[0mtitle\u001b[0m \u001b[0;34m=\u001b[0m \u001b[0;34m\"Actual artist = {}\\nPredicted artist = {}\\nPrediction probability = {:.2f} %\"\u001b[0m\u001b[0;34m.\u001b[0m\u001b[0mformat\u001b[0m\u001b[0;34m(\u001b[0m\u001b[0mrandom_artist\u001b[0m\u001b[0;34m,\u001b[0m \u001b[0mlabels\u001b[0m\u001b[0;34m[\u001b[0m\u001b[0mprediction_idx\u001b[0m\u001b[0;34m]\u001b[0m\u001b[0;34m,\u001b[0m\u001b[0mprediction_probability\u001b[0m\u001b[0;34m*\u001b[0m\u001b[0;36m100\u001b[0m\u001b[0;34m)\u001b[0m\u001b[0;34m\u001b[0m\u001b[0m\n\u001b[0m\u001b[1;32m     31\u001b[0m     \u001b[0;31m# Print image\u001b[0m\u001b[0;34m\u001b[0m\u001b[0;34m\u001b[0m\u001b[0m\n\u001b[1;32m     32\u001b[0m     \u001b[0maxes\u001b[0m\u001b[0;34m[\u001b[0m\u001b[0mi\u001b[0m\u001b[0;34m]\u001b[0m\u001b[0;34m.\u001b[0m\u001b[0mimshow\u001b[0m\u001b[0;34m(\u001b[0m\u001b[0mplt\u001b[0m\u001b[0;34m.\u001b[0m\u001b[0mimread\u001b[0m\u001b[0;34m(\u001b[0m\u001b[0mrandom_image_file\u001b[0m\u001b[0;34m)\u001b[0m\u001b[0;34m)\u001b[0m\u001b[0;34m\u001b[0m\u001b[0m\n",
      "\u001b[0;31mKeyError\u001b[0m: 4"
     ]
    },
    {
     "data": {
      "image/png": "[encoded data removed]",
      "text/plain": [
       "<Figure size 1800x720 with 5 Axes>"
      ]
     },
     "metadata": {
      "needs_background": "light"
     },
     "output_type": "display_data"
    }
   ],
   "source": [
    "n = 5\n",
    "fig, axes = plt.subplots(1, n, figsize=(25,10))\n",
    "\n",
    "for i in range(n):\n",
    "    random_artist = random.choice(artists_top_name)\n",
    "    random_image = random.choice(os.listdir(os.path.join(images_dir, random_artist)))\n",
    "    random_image_file = os.path.join(images_dir, random_artist, random_image)\n",
    "\n",
    " # Original image\n",
    "    test_image = image.load_img(random_image_file, target_size=(train_input_shape[0:2]))\n",
    "\n",
    "# Predict artist\n",
    "    test_image = image.img_to_array(test_image)\n",
    "    test_image /= 255.\n",
    "    test_image = np.expand_dims(test_image, axis=0)\n",
    "\n",
    "    prediction = model.predict(test_image)\n",
    "    prediction_probability = np.amax(prediction)\n",
    "    prediction_idx = np.argmax(prediction)\n",
    "\n",
    "    #labels = train_generator.class_indices\n",
    "    labels = data_artists['name'].to_dict()\n",
    "    labels = dict((v,k) for k,v in labels.items())\n",
    "    #print(labels)\n",
    "    print(labels1)\n",
    "    #print(\"Actual artist =\", random_artist.replace('_', ' '))\n",
    "    #print(\"Predicted artist =\", labels[prediction_idx].replace('_', ' '))\n",
    "    #print(\"Prediction probability =\", prediction_probability*100, \"%\")\n",
    "\n",
    "    title = \"Actual artist = {}\\nPredicted artist = {}\\nPrediction probability = {:.2f} %\".format(random_artist, labels[prediction_idx],prediction_probability*100)\n",
    "    # Print image\n",
    "    axes[i].imshow(plt.imread(random_image_file))\n",
    "    axes[i].set_title(title)\n",
    "    axes[i].axis('off')\n",
    "\n",
    "plt.show()"
   ]
  },
  {
   "cell_type": "code",
   "execution_count": 53,
   "metadata": {},
   "outputs": [
    {
     "name": "stdout",
     "output_type": "stream",
     "text": [
      "[<class 'int'>, <class 'int'>, <class 'int'>, <class 'int'>, <class 'int'>, <class 'int'>, <class 'int'>, <class 'int'>, <class 'int'>, <class 'int'>, <class 'int'>]\n",
      "[<class 'int'>, <class 'int'>, <class 'int'>, <class 'int'>, <class 'int'>, <class 'int'>, <class 'int'>, <class 'int'>, <class 'int'>, <class 'int'>, <class 'int'>]\n"
     ]
    }
   ],
   "source": [
    "labels\n",
    "labels1\n",
    "types1 = [type(k) for k in labels.keys()]\n",
    "types2 = [type(k) for k in labels1.keys()]\n",
    "print(types1)\n",
    "print(types2)"
   ]
  },
  {
   "cell_type": "code",
   "execution_count": null,
   "metadata": {},
   "outputs": [],
   "source": [
    "# Predict from web - this is an image of Titian.\n",
    "# Replace 'url' with any image of one of the 11 artists above and run this cell.\n",
    "url = 'https://www.gpsmycity.com/img/gd/2081.jpg'\n",
    "\n",
    "import imageio\n",
    "import cv2"
   ]
  },
  {
   "cell_type": "code",
   "execution_count": null,
   "metadata": {},
   "outputs": [],
   "source": [
    "web_image = imageio.imread(url)\n",
    "web_image = cv2.resize(web_image, dsize=train_input_shape[0:2], )\n",
    "web_image = image.img_to_array(web_image)\n",
    "web_image /= 255.\n",
    "web_image = np.expand_dims(web_image, axis=0)\n",
    "\n",
    "\n",
    "prediction = model.predict(web_image)\n",
    "prediction_probability = np.amax(prediction)\n",
    "prediction_idx = np.argmax(prediction)"
   ]
  },
  {
   "cell_type": "code",
   "execution_count": null,
   "metadata": {},
   "outputs": [],
   "source": [
    "print(\"Predicted artist =\", labels[prediction_idx].replace('_', ' '))\n",
    "print(\"Prediction probability =\", prediction_probability*100, \"%\")\n",
    "\n",
    "plt.imshow(imageio.imread(url))\n",
    "plt.axis('off')\n",
    "plt.show()"
   ]
  }
 ],
 "metadata": {
  "kernelspec": {
   "display_name": "Python [conda env:deeplearning_env]",
   "language": "python",
   "name": "conda-env-deeplearning_env-py"
  },
  "language_info": {
   "codemirror_mode": {
    "name": "ipython",
    "version": 3
   },
   "file_extension": ".py",
   "mimetype": "text/x-python",
   "name": "python",
   "nbconvert_exporter": "python",
   "pygments_lexer": "ipython3",
   "version": "3.7.0"
  }
 },
 "nbformat": 4,
 "nbformat_minor": 4
}
